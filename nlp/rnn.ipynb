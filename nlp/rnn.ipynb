{
 "cells": [
  {
   "cell_type": "markdown",
   "metadata": {},
   "source": [
    "##### Imports"
   ]
  },
  {
   "cell_type": "code",
   "execution_count": 6,
   "metadata": {},
   "outputs": [],
   "source": [
    "import tensorflow as tf\n",
    "from tensorflow.keras.datasets import imdb\n",
    "from tensorflow.keras.preprocessing.sequence import pad_sequences\n",
    "from tensorflow.keras.models import Sequential\n",
    "from tensorflow.keras.layers import Dense, Flatten, Dropout, Embedding, Conv1D \n",
    "from tensorflow.keras.layers import GlobalMaxPool1D, SpatialDropout1D, SimpleRNN\n",
    "from tensorflow.keras.callbacks import ModelCheckpoint\n",
    "from sklearn.metrics import roc_auc_score, roc_curve\n",
    "import matplotlib.pyplot as plt\n",
    "import pandas as pd\n",
    "import os\n",
    "%matplotlib inline\n"
   ]
  },
  {
   "cell_type": "markdown",
   "metadata": {},
   "source": [
    "##### Hyperparameters"
   ]
  },
  {
   "cell_type": "code",
   "execution_count": 7,
   "metadata": {},
   "outputs": [],
   "source": [
    "# output directory name\n",
    "output_dir = './output/rnn'\n",
    "\n",
    "# training\n",
    "epochs = 16\n",
    "batch_size = 128\n",
    "\n",
    "# vector-space embedding\n",
    "n_dim = 64\n",
    "n_unique_words = 10000\n",
    "n_words_to_skip = 50\n",
    "max_review_length = 100\n",
    "pad_type = trunc_type = 'pre'\n",
    "drop_embed = 0.2\n",
    "\n",
    "# RNN layer architecture\n",
    "n_rnn = 256\n",
    "drop_rnn = 0.2"
   ]
  },
  {
   "cell_type": "markdown",
   "metadata": {},
   "source": [
    "##### Load and Standardize Data"
   ]
  },
  {
   "cell_type": "code",
   "execution_count": 8,
   "metadata": {},
   "outputs": [
    {
     "name": "stdout",
     "output_type": "stream",
     "text": [
      "         Values\n",
      "fawn      34701\n",
      "tsukino   52006\n",
      "nunnery   52007\n",
      "        Values\n",
      "34704     fawn\n",
      "52009  tsukino\n",
      "52010  nunnery\n"
     ]
    }
   ],
   "source": [
    "# load data\n",
    "(x_train, y_train),(x_valid, y_valid) = imdb.load_data(num_words=n_unique_words, \n",
    "                       skip_top=n_words_to_skip)\n",
    "\n",
    "# load word index, add PAD, START, UNK, and reverse k:v\n",
    "word_index = imdb.get_word_index()\n",
    "# show original\n",
    "df = pd.DataFrame.from_dict(word_index, orient = 'index', columns = ['Values'])\n",
    "print(df.head(3))\n",
    "\n",
    "word_index = { k: (v+3) for k,v in word_index.items() }\n",
    "word_index[\"PAD\"] = 0\n",
    "word_index[\"START\"] = 1\n",
    "word_index[\"UNK\"] = 2\n",
    "index_word = { v:k for k,v in word_index.items()}\n",
    "\n",
    "# show after transformation \n",
    "df = pd.DataFrame.from_dict(index_word, orient = 'index', columns = ['Values'])\n",
    "print(df.head(3))\n",
    "\n",
    "# Standardize review length with padding\n",
    "x_train = pad_sequences(x_train,\n",
    "                        maxlen = max_review_length,\n",
    "                        padding = pad_type,\n",
    "                        truncating = trunc_type,\n",
    "                        value = 0)\n",
    "\n",
    "x_valid = pad_sequences(x_train,\n",
    "                        maxlen = max_review_length,\n",
    "                        padding = pad_type,\n",
    "                        truncating = trunc_type,\n",
    "                        value = 0)"
   ]
  },
  {
   "cell_type": "markdown",
   "metadata": {},
   "source": [
    "##### RNN sentiment classifier architecture"
   ]
  },
  {
   "cell_type": "code",
   "execution_count": 9,
   "metadata": {},
   "outputs": [],
   "source": [
    "model = Sequential([\n",
    "    Embedding(n_unique_words, n_dim, input_length = max_review_length),\n",
    "    SpatialDropout1D(drop_embed),\n",
    "    SimpleRNN(n_rnn, dropout = drop_rnn),\n",
    "    Dense(1, activation = 'sigmoid')\n",
    "])"
   ]
  },
  {
   "cell_type": "markdown",
   "metadata": {},
   "source": [
    "##### Compile, Checkpoint, and Model Fitting"
   ]
  },
  {
   "cell_type": "code",
   "execution_count": 13,
   "metadata": {},
   "outputs": [
    {
     "name": "stdout",
     "output_type": "stream",
     "text": [
      "Epoch 1/16\n",
      "196/196 [==============================] - 35s 177ms/step - loss: 0.2372 - accuracy: 0.9130 - val_loss: 1.6819 - val_accuracy: 0.4991\n",
      "Epoch 2/16\n",
      "196/196 [==============================] - 30s 153ms/step - loss: 0.2685 - accuracy: 0.8869 - val_loss: 1.0764 - val_accuracy: 0.5003\n",
      "Epoch 3/16\n",
      "196/196 [==============================] - 29s 146ms/step - loss: 0.2579 - accuracy: 0.9037 - val_loss: 1.7024 - val_accuracy: 0.4974\n",
      "Epoch 4/16\n",
      "196/196 [==============================] - 30s 151ms/step - loss: 0.2829 - accuracy: 0.8854 - val_loss: 1.6680 - val_accuracy: 0.4967\n",
      "Epoch 5/16\n",
      "196/196 [==============================] - 28s 142ms/step - loss: 0.2454 - accuracy: 0.9101 - val_loss: 1.2063 - val_accuracy: 0.5016\n",
      "Epoch 6/16\n",
      "196/196 [==============================] - 28s 141ms/step - loss: 0.2332 - accuracy: 0.9130 - val_loss: 1.4743 - val_accuracy: 0.4984\n",
      "Epoch 7/16\n",
      "196/196 [==============================] - 28s 142ms/step - loss: 0.2230 - accuracy: 0.9191 - val_loss: 1.8896 - val_accuracy: 0.4953\n",
      "Epoch 8/16\n",
      "196/196 [==============================] - 28s 142ms/step - loss: 0.1881 - accuracy: 0.9347 - val_loss: 1.9287 - val_accuracy: 0.4958\n",
      "Epoch 9/16\n",
      "196/196 [==============================] - 28s 144ms/step - loss: 0.1794 - accuracy: 0.9386 - val_loss: 1.8580 - val_accuracy: 0.4976\n",
      "Epoch 10/16\n",
      "196/196 [==============================] - 28s 141ms/step - loss: 0.1775 - accuracy: 0.9402 - val_loss: 2.1676 - val_accuracy: 0.4956\n",
      "Epoch 11/16\n",
      "196/196 [==============================] - 27s 137ms/step - loss: 0.1784 - accuracy: 0.9388 - val_loss: 2.0021 - val_accuracy: 0.4957\n",
      "Epoch 12/16\n",
      "196/196 [==============================] - 27s 138ms/step - loss: 0.1571 - accuracy: 0.9482 - val_loss: 2.0006 - val_accuracy: 0.4968\n",
      "Epoch 13/16\n",
      "196/196 [==============================] - 27s 137ms/step - loss: 0.1716 - accuracy: 0.9418 - val_loss: 1.5884 - val_accuracy: 0.4993\n",
      "Epoch 14/16\n",
      "196/196 [==============================] - 27s 139ms/step - loss: 0.1688 - accuracy: 0.9422 - val_loss: 1.1198 - val_accuracy: 0.4989\n",
      "Epoch 15/16\n",
      "196/196 [==============================] - 28s 141ms/step - loss: 0.2682 - accuracy: 0.8883 - val_loss: 1.7453 - val_accuracy: 0.4983\n",
      "Epoch 16/16\n",
      "196/196 [==============================] - 27s 137ms/step - loss: 0.1715 - accuracy: 0.9420 - val_loss: 2.0646 - val_accuracy: 0.4968\n",
      "782/782 - 7s - loss: 2.0646 - accuracy: 0.4968 - 7s/epoch - 9ms/step\n"
     ]
    },
    {
     "data": {
      "text/plain": [
       "[2.0645644664764404, 0.4968400001525879]"
      ]
     },
     "execution_count": 13,
     "metadata": {},
     "output_type": "execute_result"
    }
   ],
   "source": [
    "\n",
    "model.compile(\n",
    "    loss = 'binary_crossentropy',\n",
    "    optimizer = 'adam',\n",
    "    metrics = ['accuracy']\n",
    ")\n",
    "\n",
    "if not os.path.exists(output_dir):\n",
    "    os.makedirs(output_dir)\n",
    "model_checkpoint = ModelCheckpoint(filepath=output_dir+'/weights.{epoch:02d}.hdf5')\n",
    "\n",
    "model.fit(\n",
    "    x_train,\n",
    "    y_train,\n",
    "    batch_size = batch_size,\n",
    "    epochs = epochs,\n",
    "    verbose = 1,\n",
    "    validation_data = (x_valid, y_valid),\n",
    "    callbacks = [model_checkpoint]\n",
    ")\n",
    "\n",
    "model.evaluate(x_valid, y_valid, verbose=2)"
   ]
  },
  {
   "cell_type": "markdown",
   "metadata": {},
   "source": [
    "##### Predict"
   ]
  },
  {
   "cell_type": "code",
   "execution_count": 14,
   "metadata": {},
   "outputs": [
    {
     "name": "stdout",
     "output_type": "stream",
     "text": [
      "782/782 [==============================] - 6s 8ms/step\n",
      "0.9647414\n",
      "cry UNK UNK UNK UNK must UNK been good UNK UNK definitely UNK also UNK UNK UNK two little boy's UNK played UNK UNK UNK norman UNK paul UNK were UNK brilliant children UNK often left UNK UNK UNK UNK list UNK think because UNK stars UNK play them UNK grown up UNK such UNK big profile UNK UNK whole UNK UNK these children UNK amazing UNK should UNK praised UNK what UNK UNK done don't UNK think UNK whole story UNK UNK lovely because UNK UNK true UNK UNK someone's life after UNK UNK UNK shared UNK us UNK\n",
      "0\n"
     ]
    }
   ],
   "source": [
    "# load model parameters from best epoch\n",
    "model.load_weights(output_dir+\"/weights.03.hdf5\")\n",
    "\n",
    "# export for api\n",
    "model.save(output_dir+'/model.h5')\n",
    "# with open('pickle/reviews_cnn.pkl', 'wb') as file:\n",
    "#     pickle.dump(model.tokenizer, file)\n",
    "\n",
    "prediction_index = 0\n",
    "predictions = model.predict(x_valid)\n",
    "predicted_sentiment = predictions[prediction_index][0]\n",
    "\n",
    "print(predicted_sentiment)\n",
    "print(' '.join(index_word[id] for id in x_valid[prediction_index]))\n",
    "\n",
    "print(y_valid[prediction_index])"
   ]
  },
  {
   "cell_type": "markdown",
   "metadata": {},
   "source": [
    "##### Validation Review"
   ]
  },
  {
   "cell_type": "code",
   "execution_count": 17,
   "metadata": {},
   "outputs": [
    {
     "name": "stdout",
     "output_type": "stream",
     "text": [
      "ROC_AUC: 49.41\n"
     ]
    },
    {
     "data": {
      "text/html": [
       "<div>\n",
       "<style scoped>\n",
       "    .dataframe tbody tr th:only-of-type {\n",
       "        vertical-align: middle;\n",
       "    }\n",
       "\n",
       "    .dataframe tbody tr th {\n",
       "        vertical-align: top;\n",
       "    }\n",
       "\n",
       "    .dataframe thead th {\n",
       "        text-align: right;\n",
       "    }\n",
       "</style>\n",
       "<table border=\"1\" class=\"dataframe\">\n",
       "  <thead>\n",
       "    <tr style=\"text-align: right;\">\n",
       "      <th></th>\n",
       "      <th>y_hat</th>\n",
       "      <th>y</th>\n",
       "    </tr>\n",
       "  </thead>\n",
       "  <tbody>\n",
       "    <tr>\n",
       "      <th>0</th>\n",
       "      <td>0.964741</td>\n",
       "      <td>0</td>\n",
       "    </tr>\n",
       "    <tr>\n",
       "      <th>1</th>\n",
       "      <td>0.063532</td>\n",
       "      <td>1</td>\n",
       "    </tr>\n",
       "    <tr>\n",
       "      <th>2</th>\n",
       "      <td>0.091398</td>\n",
       "      <td>1</td>\n",
       "    </tr>\n",
       "    <tr>\n",
       "      <th>3</th>\n",
       "      <td>0.990185</td>\n",
       "      <td>0</td>\n",
       "    </tr>\n",
       "    <tr>\n",
       "      <th>4</th>\n",
       "      <td>0.073493</td>\n",
       "      <td>1</td>\n",
       "    </tr>\n",
       "    <tr>\n",
       "      <th>5</th>\n",
       "      <td>0.053041</td>\n",
       "      <td>1</td>\n",
       "    </tr>\n",
       "    <tr>\n",
       "      <th>6</th>\n",
       "      <td>0.966805</td>\n",
       "      <td>1</td>\n",
       "    </tr>\n",
       "    <tr>\n",
       "      <th>7</th>\n",
       "      <td>0.057305</td>\n",
       "      <td>0</td>\n",
       "    </tr>\n",
       "    <tr>\n",
       "      <th>8</th>\n",
       "      <td>0.966091</td>\n",
       "      <td>0</td>\n",
       "    </tr>\n",
       "    <tr>\n",
       "      <th>9</th>\n",
       "      <td>0.039510</td>\n",
       "      <td>1</td>\n",
       "    </tr>\n",
       "  </tbody>\n",
       "</table>\n",
       "</div>"
      ],
      "text/plain": [
       "      y_hat  y\n",
       "0  0.964741  0\n",
       "1  0.063532  1\n",
       "2  0.091398  1\n",
       "3  0.990185  0\n",
       "4  0.073493  1\n",
       "5  0.053041  1\n",
       "6  0.966805  1\n",
       "7  0.057305  0\n",
       "8  0.966091  0\n",
       "9  0.039510  1"
      ]
     },
     "execution_count": 17,
     "metadata": {},
     "output_type": "execute_result"
    },
    {
     "data": {
      "image/png": "[encoded data removed]",
      "text/plain": [
       "<Figure size 640x480 with 1 Axes>"
      ]
     },
     "metadata": {},
     "output_type": "display_data"
    }
   ],
   "source": [
    "# roc auc score\n",
    "pct_auc = roc_auc_score(y_valid, predictions)*100.0\n",
    "print(\"ROC_AUC: {:0.2f}\".format(pct_auc))\n",
    "\n",
    "# plot predictions\n",
    "plt.hist(predictions)\n",
    "_ = plt.axvline(x = 0.5, color = 'orange')\n",
    "\n",
    "# compare y hat to y\n",
    "float_y_hat = []\n",
    "for y in predictions:\n",
    "    float_y_hat.append(y[0])\n",
    "\n",
    "ydf = pd.DataFrame(list(zip(float_y_hat, y_valid)), columns = ['y_hat', 'y'])\n",
    "ydf.head(10)"
   ]
  },
  {
   "cell_type": "markdown",
   "metadata": {},
   "source": [
    "##### False Positives"
   ]
  },
  {
   "cell_type": "code",
   "execution_count": 18,
   "metadata": {},
   "outputs": [
    {
     "data": {
      "text/html": [
       "<div>\n",
       "<style scoped>\n",
       "    .dataframe tbody tr th:only-of-type {\n",
       "        vertical-align: middle;\n",
       "    }\n",
       "\n",
       "    .dataframe tbody tr th {\n",
       "        vertical-align: top;\n",
       "    }\n",
       "\n",
       "    .dataframe thead th {\n",
       "        text-align: right;\n",
       "    }\n",
       "</style>\n",
       "<table border=\"1\" class=\"dataframe\">\n",
       "  <thead>\n",
       "    <tr style=\"text-align: right;\">\n",
       "      <th></th>\n",
       "      <th>y_hat</th>\n",
       "      <th>y</th>\n",
       "    </tr>\n",
       "  </thead>\n",
       "  <tbody>\n",
       "    <tr>\n",
       "      <th>0</th>\n",
       "      <td>0.964741</td>\n",
       "      <td>0</td>\n",
       "    </tr>\n",
       "    <tr>\n",
       "      <th>3</th>\n",
       "      <td>0.990185</td>\n",
       "      <td>0</td>\n",
       "    </tr>\n",
       "    <tr>\n",
       "      <th>8</th>\n",
       "      <td>0.966091</td>\n",
       "      <td>0</td>\n",
       "    </tr>\n",
       "    <tr>\n",
       "      <th>19</th>\n",
       "      <td>0.953431</td>\n",
       "      <td>0</td>\n",
       "    </tr>\n",
       "    <tr>\n",
       "      <th>32</th>\n",
       "      <td>0.994612</td>\n",
       "      <td>0</td>\n",
       "    </tr>\n",
       "    <tr>\n",
       "      <th>33</th>\n",
       "      <td>0.946615</td>\n",
       "      <td>0</td>\n",
       "    </tr>\n",
       "    <tr>\n",
       "      <th>46</th>\n",
       "      <td>0.969511</td>\n",
       "      <td>0</td>\n",
       "    </tr>\n",
       "    <tr>\n",
       "      <th>48</th>\n",
       "      <td>0.934053</td>\n",
       "      <td>0</td>\n",
       "    </tr>\n",
       "    <tr>\n",
       "      <th>58</th>\n",
       "      <td>0.975180</td>\n",
       "      <td>0</td>\n",
       "    </tr>\n",
       "    <tr>\n",
       "      <th>59</th>\n",
       "      <td>0.981451</td>\n",
       "      <td>0</td>\n",
       "    </tr>\n",
       "  </tbody>\n",
       "</table>\n",
       "</div>"
      ],
      "text/plain": [
       "       y_hat  y\n",
       "0   0.964741  0\n",
       "3   0.990185  0\n",
       "8   0.966091  0\n",
       "19  0.953431  0\n",
       "32  0.994612  0\n",
       "33  0.946615  0\n",
       "46  0.969511  0\n",
       "48  0.934053  0\n",
       "58  0.975180  0\n",
       "59  0.981451  0"
      ]
     },
     "execution_count": 18,
     "metadata": {},
     "output_type": "execute_result"
    }
   ],
   "source": [
    "ydf[(ydf.y == 0) & (ydf.y_hat > 0.9)].head(10)"
   ]
  },
  {
   "cell_type": "markdown",
   "metadata": {},
   "source": [
    "##### False Negatives"
   ]
  },
  {
   "cell_type": "code",
   "execution_count": 19,
   "metadata": {},
   "outputs": [
    {
     "data": {
      "text/html": [
       "<div>\n",
       "<style scoped>\n",
       "    .dataframe tbody tr th:only-of-type {\n",
       "        vertical-align: middle;\n",
       "    }\n",
       "\n",
       "    .dataframe tbody tr th {\n",
       "        vertical-align: top;\n",
       "    }\n",
       "\n",
       "    .dataframe thead th {\n",
       "        text-align: right;\n",
       "    }\n",
       "</style>\n",
       "<table border=\"1\" class=\"dataframe\">\n",
       "  <thead>\n",
       "    <tr style=\"text-align: right;\">\n",
       "      <th></th>\n",
       "      <th>y_hat</th>\n",
       "      <th>y</th>\n",
       "    </tr>\n",
       "  </thead>\n",
       "  <tbody>\n",
       "    <tr>\n",
       "      <th>1</th>\n",
       "      <td>0.063532</td>\n",
       "      <td>1</td>\n",
       "    </tr>\n",
       "    <tr>\n",
       "      <th>2</th>\n",
       "      <td>0.091398</td>\n",
       "      <td>1</td>\n",
       "    </tr>\n",
       "    <tr>\n",
       "      <th>4</th>\n",
       "      <td>0.073493</td>\n",
       "      <td>1</td>\n",
       "    </tr>\n",
       "    <tr>\n",
       "      <th>5</th>\n",
       "      <td>0.053041</td>\n",
       "      <td>1</td>\n",
       "    </tr>\n",
       "    <tr>\n",
       "      <th>9</th>\n",
       "      <td>0.039510</td>\n",
       "      <td>1</td>\n",
       "    </tr>\n",
       "    <tr>\n",
       "      <th>14</th>\n",
       "      <td>0.093946</td>\n",
       "      <td>1</td>\n",
       "    </tr>\n",
       "    <tr>\n",
       "      <th>20</th>\n",
       "      <td>0.010407</td>\n",
       "      <td>1</td>\n",
       "    </tr>\n",
       "    <tr>\n",
       "      <th>23</th>\n",
       "      <td>0.009162</td>\n",
       "      <td>1</td>\n",
       "    </tr>\n",
       "    <tr>\n",
       "      <th>27</th>\n",
       "      <td>0.064018</td>\n",
       "      <td>1</td>\n",
       "    </tr>\n",
       "    <tr>\n",
       "      <th>30</th>\n",
       "      <td>0.043850</td>\n",
       "      <td>1</td>\n",
       "    </tr>\n",
       "  </tbody>\n",
       "</table>\n",
       "</div>"
      ],
      "text/plain": [
       "       y_hat  y\n",
       "1   0.063532  1\n",
       "2   0.091398  1\n",
       "4   0.073493  1\n",
       "5   0.053041  1\n",
       "9   0.039510  1\n",
       "14  0.093946  1\n",
       "20  0.010407  1\n",
       "23  0.009162  1\n",
       "27  0.064018  1\n",
       "30  0.043850  1"
      ]
     },
     "execution_count": 19,
     "metadata": {},
     "output_type": "execute_result"
    }
   ],
   "source": [
    "ydf[(ydf.y == 1) & (ydf.y_hat < 0.1)].head(10)"
   ]
  }
 ],
 "metadata": {
  "kernelspec": {
   "display_name": "tf",
   "language": "python",
   "name": "python3"
  },
  "language_info": {
   "codemirror_mode": {
    "name": "ipython",
    "version": 3
   },
   "file_extension": ".py",
   "mimetype": "text/x-python",
   "name": "python",
   "nbconvert_exporter": "python",
   "pygments_lexer": "ipython3",
   "version": "3.11.9"
  }
 },
 "nbformat": 4,
 "nbformat_minor": 2
}
